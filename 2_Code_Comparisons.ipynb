{
 "cells": [
  {
   "cell_type": "markdown",
   "metadata": {},
   "source": [
    "# Code Comparisons\n",
    "\n",
    "------\n",
    "\n",
    "Tested Models include:\n",
    "\n",
    "+ ARC\n",
    "+ Process\n",
    "+ ACT 1 & 2\n",
    "+ Prev Code"
   ]
  },
  {
   "cell_type": "code",
   "execution_count": 1,
   "metadata": {},
   "outputs": [],
   "source": [
    "using FusionSystems\n",
    "\n",
    "Main.IJulia.set_current_module(FusionSystems)\n",
    "\n",
    "return"
   ]
  },
  {
   "cell_type": "code",
   "execution_count": 2,
   "metadata": {},
   "outputs": [],
   "source": [
    "cur_points = 160\n",
    "\n",
    "cur_temps = linspace(0, 40, cur_points)\n",
    "\n",
    "cur_decks = [:pulsed, :arc, :act_1, :act_2]\n",
    "\n",
    "return"
   ]
  },
  {
   "cell_type": "code",
   "execution_count": 3,
   "metadata": {},
   "outputs": [],
   "source": [
    "cur_solutions = Dict()\n",
    "\n",
    "for cur_deck in cur_decks\n",
    "    tmp_symbol = Symbol(\"$(cur_deck)_solution\")\n",
    "    isdefined(FusionSystems, tmp_symbol) || continue\n",
    "    cur_solutions[cur_deck] = getfield(FusionSystems, tmp_symbol)()\n",
    "end"
   ]
  },
  {
   "cell_type": "code",
   "execution_count": 4,
   "metadata": {},
   "outputs": [
    {
     "name": "stdout",
     "output_type": "stream",
     "text": [
      "  6.998011 seconds (59.67 M allocations: 1001.505 MiB, 3.36% gc time)\n",
      "  2.475696 seconds (25.91 M allocations: 428.764 MiB, 5.01% gc time)\n",
      "  2.224682 seconds (33.82 M allocations: 549.290 MiB, 7.21% gc time)\n",
      "  2.213733 seconds (25.39 M allocations: 413.950 MiB, 5.96% gc time)\n",
      "done.\n"
     ]
    }
   ],
   "source": [
    "cur_sweeps = Dict()\n",
    "\n",
    "for cur_deck in cur_decks\n",
    "    @time cur_sweeps[cur_deck] = Sweep(cur_temps, deck=cur_deck)\n",
    "end\n",
    "\n",
    "println(\"done.\")"
   ]
  },
  {
   "cell_type": "code",
   "execution_count": 5,
   "metadata": {},
   "outputs": [
    {
     "data": {
      "text/html": [
       "<div id=\"interact-js-shim\">\n",
       "    <script charset=\"utf-8\">\n",
       "(function (IPython, $, _, MathJax) {\n",
       "    $.event.special.destroyed = {\n",
       "\tremove: function(o) {\n",
       "\t    if (o.handler) {\n",
       "\t\to.handler.apply(this, arguments)\n",
       "\t    }\n",
       "\t}\n",
       "    }\n",
       "\n",
       "    var OutputArea = IPython.version >= \"4.0.0\" ? require(\"notebook/js/outputarea\").OutputArea : IPython.OutputArea;\n",
       "\n",
       "    var redrawValue = function (container, type, val) {\n",
       "\tvar selector = $(\"<div/>\");\n",
       "\tvar oa = new OutputArea(_.extend(selector, {\n",
       "\t    selector: selector,\n",
       "\t    prompt_area: true,\n",
       "\t    events: IPython.events,\n",
       "\t    keyboard_manager: IPython.keyboard_manager\n",
       "\t})); // Hack to work with IPython 2.1.0\n",
       "\n",
       "\tswitch (type) {\n",
       "\tcase \"image/png\":\n",
       "            var _src = 'data:' + type + ';base64,' + val;\n",
       "\t    $(container).find(\"img\").attr('src', _src);\n",
       "\t    break;\n",
       "\tcase \"text/latex\":\n",
       "\t\tif (MathJax){\n",
       "\t\t\tvar math = MathJax.Hub.getAllJax(container)[0];\n",
       "\t\t\tMathJax.Hub.Queue([\"Text\", math, val.replace(/^\\${1,2}|\\${1,2}$/g, '')]);\n",
       "\t\t\tbreak;\n",
       "\t\t}\n",
       "\tdefault:\n",
       "\t    var toinsert = OutputArea.append_map[type].apply(\n",
       "\t\toa, [val, {}, selector]\n",
       "\t    );\n",
       "\t    $(container).empty().append(toinsert.contents());\n",
       "\t    selector.remove();\n",
       "\t}\n",
       "    }\n",
       "\n",
       "\n",
       "    $(document).ready(function() {\n",
       "\tfunction initComm(evt, data) {\n",
       "\t    var comm_manager = data.kernel.comm_manager;\n",
       "        //_.extend(comm_manager.targets, require(\"widgets/js/widget\"))\n",
       "\t    comm_manager.register_target(\"Signal\", function (comm) {\n",
       "            comm.on_msg(function (msg) {\n",
       "                var val = msg.content.data.value;\n",
       "                $(\".signal-\" + comm.comm_id).each(function() {\n",
       "                var type = $(this).data(\"type\");\n",
       "                if (typeof(val[type]) !== \"undefined\" && val[type] !== null) {\n",
       "                    redrawValue(this, type, val[type], type);\n",
       "                }\n",
       "                });\n",
       "                delete val;\n",
       "                delete msg.content.data.value;\n",
       "            });\n",
       "\t    });\n",
       "\n",
       "\t    // coordingate with Comm and redraw Signals\n",
       "\t    // XXX: Test using Reactive here to improve performance\n",
       "\t    $([IPython.events]).on(\n",
       "\t\t'output_appended.OutputArea', function (event, type, value, md, toinsert) {\n",
       "\t\t    if (md && md.reactive) {\n",
       "                // console.log(md.comm_id);\n",
       "                toinsert.addClass(\"signal-\" + md.comm_id);\n",
       "                toinsert.data(\"type\", type);\n",
       "                // Signal back indicating the mimetype required\n",
       "                var comm_manager = IPython.notebook.kernel.comm_manager;\n",
       "                var comm = comm_manager.comms[md.comm_id];\n",
       "                comm.then(function (c) {\n",
       "                    c.send({action: \"subscribe_mime\",\n",
       "                       mime: type});\n",
       "                    toinsert.bind(\"destroyed\", function() {\n",
       "                        c.send({action: \"unsubscribe_mime\",\n",
       "                               mime: type});\n",
       "                    });\n",
       "                })\n",
       "\t\t    }\n",
       "\t    });\n",
       "\t}\n",
       "\n",
       "\ttry {\n",
       "\t    // try to initialize right away. otherwise, wait on the status_started event.\n",
       "\t    initComm(undefined, IPython.notebook);\n",
       "\t} catch (e) {\n",
       "\t    $([IPython.events]).on('kernel_created.Kernel kernel_created.Session', initComm);\n",
       "\t}\n",
       "    });\n",
       "})(IPython, jQuery, _, MathJax);\n",
       "</script>\n",
       "    <script>\n",
       "        window.interactLoadedFlag = true\n",
       "       $(\"#interact-js-shim\").bind(\"destroyed\", function () {\n",
       "           if (window.interactLoadedFlag) {\n",
       "               console.warn(\"JavaScript required by Interact will be removed if you remove this cell or run using Interact more than once.\")\n",
       "           }\n",
       "       })\n",
       "       $([IPython.events]).on(\"kernel_starting.Kernel kernel_restarting.Kernel\", function () { window.interactLoadedFlag = false })\n",
       "   </script>\n",
       "</div>"
      ]
     },
     "metadata": {},
     "output_type": "display_data"
    },
    {
     "name": "stderr",
     "output_type": "stream",
     "text": [
      "\u001b[1m\u001b[36mINFO: \u001b[39m\u001b[22m\u001b[36mInteract.jl: using new nbwidgetsextension protocol\n",
      "\u001b[39m"
     ]
    }
   ],
   "source": [
    "using Interact\n",
    "using Plots\n",
    "\n",
    "cur_fields = [ \n",
    "  \"T_bar\", \"n_bar\", \"I_P\", \"R_0\", \"B_0\",\n",
    "  \"tau_E\", \"p_bar\", \"P_F\", \"f_BS\", \"W_M\", \"cost\", \"eta_CD\",\n",
    "  \"norm_beta_N\", \"norm_q_95\", \"norm_q_DV\", \"norm_P_E\", \"norm_P_W\"\n",
    "]\n",
    "\n",
    "sort!(cur_fields)\n",
    "\n",
    "cur_xvars = deepcopy(cur_fields)\n",
    "cur_yvars = deepcopy(cur_fields)\n",
    "\n",
    "filter!(cur_var -> cur_var != \"B_0\", cur_xvars)\n",
    "filter!(cur_var -> cur_var != \"R_0\", cur_yvars)\n",
    "\n",
    "unshift!(cur_xvars, \"B_0\")\n",
    "unshift!(cur_yvars, \"R_0\")\n",
    "\n",
    "return"
   ]
  },
  {
   "cell_type": "code",
   "execution_count": 6,
   "metadata": {},
   "outputs": [
    {
     "data": {
      "text/plain": [
       "add_limit! (generic function with 1 method)"
      ]
     },
     "execution_count": 6,
     "metadata": {},
     "output_type": "execute_result"
    }
   ],
   "source": [
    "function add_limit!(cur_dict::Dict, tmp_sweep::Sweep, cur_limit::Symbol, cur_x::Symbol, cur_y::Symbol, maxx::Integer)\n",
    "    cur_dict[cur_limit] = Dict(\n",
    "        :x => get_limit_vars(tmp_sweep, cur_limit, cur_x, cur_last=maxx),\n",
    "        :y => get_limit_vars(tmp_sweep, cur_limit, cur_y, cur_last=maxx),\n",
    "        :t => get_limit_vars(tmp_sweep, cur_limit, :T_bar, cur_last=maxx)\n",
    "    )\n",
    "    \n",
    "    nan_list = []\n",
    "    \n",
    "    append!(nan_list, find(isnan, cur_dict[cur_limit][:x]))\n",
    "    append!(nan_list, find(isnan, cur_dict[cur_limit][:y]))\n",
    "    append!(nan_list, find(isnan, cur_dict[cur_limit][:t]))\n",
    "    \n",
    "    nan_list = unique(nan_list)\n",
    "    \n",
    "    isempty(nan_list) && return\n",
    "    \n",
    "    deleteat!(cur_dict[cur_limit][:x], nan_list)\n",
    "    deleteat!(cur_dict[cur_limit][:y], nan_list)\n",
    "    deleteat!(cur_dict[cur_limit][:t], nan_list)\n",
    "end"
   ]
  },
  {
   "cell_type": "code",
   "execution_count": 12,
   "metadata": {
    "scrolled": false
   },
   "outputs": [
    {
     "data": {
      "application/vnd.jupyter.widget-view+json": {
       "model_id": "cf820c96-17fc-42cd-bb1b-5364e98ee245",
       "version_major": 2,
       "version_minor": 0
      }
     },
     "metadata": {},
     "output_type": "display_data"
    },
    {
     "data": {
      "text/html": [],
      "text/plain": [
       "Interact.Options{:ToggleButtons,Bool}(43: \"input-19\" = true Bool , \"legend\", true, \"true\", 1, Interact.OptionDict(DataStructures.OrderedDict(\"true\"=>true,\"false\"=>false), Dict(false=>\"false\",true=>\"true\")), Any[], Any[], true, \"horizontal\", true)"
      ]
     },
     "metadata": {},
     "output_type": "display_data"
    },
    {
     "data": {
      "application/vnd.jupyter.widget-view+json": {
       "model_id": "8dce05c0-7f68-429d-b4b4-402df09eeff9",
       "version_major": 2,
       "version_minor": 0
      }
     },
     "metadata": {},
     "output_type": "display_data"
    },
    {
     "data": {
      "text/html": [],
      "text/plain": [
       "Interact.Textbox{Int64}(45: \"input-20\" = 0 Int64 , \"xmax\", nothing, 0)"
      ]
     },
     "metadata": {},
     "output_type": "display_data"
    },
    {
     "data": {
      "application/vnd.jupyter.widget-view+json": {
       "model_id": "9cb824bd-c4c3-4e3f-a139-579cf5ec8408",
       "version_major": 2,
       "version_minor": 0
      }
     },
     "metadata": {},
     "output_type": "display_data"
    },
    {
     "data": {
      "text/html": [],
      "text/plain": [
       "Interact.Textbox{Int64}(47: \"input-21\" = 0 Int64 , \"ymax\", nothing, 0)"
      ]
     },
     "metadata": {},
     "output_type": "display_data"
    },
    {
     "data": {
      "application/vnd.jupyter.widget-view+json": {
       "model_id": "08a2d8a1-9528-4f85-9d1b-3b499fb65ba4",
       "version_major": 2,
       "version_minor": 0
      }
     },
     "metadata": {},
     "output_type": "display_data"
    },
    {
     "data": {
      "text/html": [],
      "text/plain": [
       "Interact.Options{:ToggleButtons,String}(49: \"input-22\" = B_0 String , \"xvar\", \"B_0\", \"B_0\", 1, Interact.OptionDict(DataStructures.OrderedDict(\"B_0\"=>\"B_0\",\"I_P\"=>\"I_P\",\"P_F\"=>\"P_F\",\"R_0\"=>\"R_0\",\"T_bar\"=>\"T_bar\",\"W_M\"=>\"W_M\",\"cost\"=>\"cost\",\"eta_CD\"=>\"eta_CD\",\"f_BS\"=>\"f_BS\",\"n_bar\"=>\"n_bar\"…), Dict(\"W_M\"=>\"W_M\",\"I_P\"=>\"I_P\",\"n_bar\"=>\"n_bar\",\"B_0\"=>\"B_0\",\"R_0\"=>\"R_0\",\"eta_CD\"=>\"eta_CD\",\"norm_q_DV\"=>\"norm_q_DV\",\"p_bar\"=>\"p_bar\",\"norm_P_W\"=>\"norm_P_W\",\"norm_q_95\"=>\"norm_q_95\"…)), Any[], Any[], true, \"horizontal\", true)"
      ]
     },
     "metadata": {},
     "output_type": "display_data"
    },
    {
     "data": {
      "application/vnd.jupyter.widget-view+json": {
       "model_id": "51aaa6a2-7d02-4160-a3b8-d726f0dbc471",
       "version_major": 2,
       "version_minor": 0
      }
     },
     "metadata": {},
     "output_type": "display_data"
    },
    {
     "data": {
      "text/html": [],
      "text/plain": [
       "Interact.Options{:ToggleButtons,String}(51: \"input-23\" = R_0 String , \"yvar\", \"R_0\", \"R_0\", 1, Interact.OptionDict(DataStructures.OrderedDict(\"R_0\"=>\"R_0\",\"B_0\"=>\"B_0\",\"I_P\"=>\"I_P\",\"P_F\"=>\"P_F\",\"T_bar\"=>\"T_bar\",\"W_M\"=>\"W_M\",\"cost\"=>\"cost\",\"eta_CD\"=>\"eta_CD\",\"f_BS\"=>\"f_BS\",\"n_bar\"=>\"n_bar\"…), Dict(\"W_M\"=>\"W_M\",\"I_P\"=>\"I_P\",\"n_bar\"=>\"n_bar\",\"R_0\"=>\"R_0\",\"B_0\"=>\"B_0\",\"eta_CD\"=>\"eta_CD\",\"norm_q_DV\"=>\"norm_q_DV\",\"p_bar\"=>\"p_bar\",\"norm_P_W\"=>\"norm_P_W\",\"norm_q_95\"=>\"norm_q_95\"…)), Any[], Any[], true, \"horizontal\", true)"
      ]
     },
     "metadata": {},
     "output_type": "display_data"
    },
    {
     "data": {
      "application/vnd.jupyter.widget-view+json": {
       "model_id": "e38d4d85-9e13-4d60-a991-e9a6d3e91c46",
       "version_major": 2,
       "version_minor": 0
      }
     },
     "metadata": {},
     "output_type": "display_data"
    },
    {
     "data": {
      "text/html": [],
      "text/plain": [
       "Interact.Options{:ToggleButtons,Symbol}(53: \"input-24\" = pulsed Symbol , \"sweep\", :pulsed, \"pulsed\", 1, Interact.OptionDict(DataStructures.OrderedDict(\"pulsed\"=>:pulsed,\"arc\"=>:arc,\"act_1\"=>:act_1,\"act_2\"=>:act_2), Dict(:act_1=>\"act_1\",:pulsed=>\"pulsed\",:arc=>\"arc\",:act_2=>\"act_2\")), Any[], Any[], true, \"horizontal\", true)"
      ]
     },
     "metadata": {},
     "output_type": "display_data"
    },
    {
     "name": "stdout",
     "output_type": "stream",
     "text": [
      "hmm\n"
     ]
    },
    {
     "data": {
      "image/png": "[encoded data removed]"
     },
     "execution_count": 12,
     "metadata": {
      "comm_id": "6d2230aa-fe4b-4e87-b9eb-d9e78868ce1e",
      "reactive": true
     },
     "output_type": "execute_result"
    },
    {
     "name": "stdout",
     "output_type": "stream",
     "text": [
      "hmm\n",
      "hmm\n",
      "hmm\n"
     ]
    }
   ],
   "source": [
    "@manipulate for legend=[true,false], xmax=0, ymax=0, xvar=cur_xvars, yvar=cur_yvars, sweep=cur_decks\n",
    "    beta=true\n",
    "    kink=true \n",
    "    pcap=true \n",
    "    wall=true \n",
    "    heat=true\n",
    "    \n",
    "    tmp_sweep = cur_sweeps[sweep]\n",
    "    \n",
    "    maxx = cur_points\n",
    "    \n",
    "    plot()\n",
    "\n",
    "    cur_x = Symbol(xvar)\n",
    "    cur_y = Symbol(yvar)\n",
    "    \n",
    "    cur_dict = Dict()\n",
    "    \n",
    "    beta && add_limit!(cur_dict, tmp_sweep, :beta, cur_x, cur_y, maxx)\n",
    "    kink && add_limit!(cur_dict, tmp_sweep, :kink, cur_x, cur_y, maxx)\n",
    "    pcap && add_limit!(cur_dict, tmp_sweep, :pcap, cur_x, cur_y, maxx)\n",
    "    wall && add_limit!(cur_dict, tmp_sweep, :wall, cur_x, cur_y, maxx)\n",
    "    heat && add_limit!(cur_dict, tmp_sweep, :heat, cur_x, cur_y, maxx)\n",
    "\n",
    "    for (cur_key, cur_value) in cur_dict\n",
    "        plot!(\n",
    "            cur_value[:x], \n",
    "            cur_value[:y],\n",
    "            label=cur_key\n",
    "        )\n",
    "    end\n",
    "  \n",
    "    t_pool = []\n",
    "    x_pool = []\n",
    "    y_pool = []\n",
    "    \n",
    "    for cur_value in values(cur_dict)\n",
    "        append!(t_pool, cur_value[:t])\n",
    "        append!(x_pool, cur_value[:x])\n",
    "        append!(y_pool, cur_value[:y])\n",
    "    end\n",
    "    \n",
    "    if haskey(cur_solutions, sweep)\n",
    "        cur_solution = cur_solutions[sweep]\n",
    "        \n",
    "        cur_cursor_x = getfield(cur_solution, Symbol(xvar))\n",
    "        cur_cursor_y = getfield(cur_solution, Symbol(yvar))\n",
    "        \n",
    "        tmp_xmax = ( xmax > 0 ) ? xmax : maximum(x_pool)\n",
    "        tmp_ymax = ( ymax > 0 ) ? ymax : maximum(y_pool) \n",
    "        \n",
    "        if cur_cursor_x == nothing && cur_cursor_y == nothing\n",
    "            # do nothing\n",
    "        elseif cur_cursor_x == nothing\n",
    "            plot!(\n",
    "                [ 0 , tmp_xmax ],\n",
    "                [ cur_cursor_y , cur_cursor_y ],\n",
    "                label=\"model\", linestyle=:dash\n",
    "            )\n",
    "        elseif cur_cursor_y == nothing\n",
    "            plot!(\n",
    "                [ cur_cursor_x , cur_cursor_x ],\n",
    "                [ 0 , tmp_ymax ],\n",
    "                label=\"model\", linestyle=:dash\n",
    "            )\n",
    "        else\n",
    "            println(\"hmm\")\n",
    "            plot!(\n",
    "                [ cur_cursor_x , cur_cursor_x , NaN , 0 , tmp_xmax ],\n",
    "                [ 0 , tmp_ymax , NaN , cur_cursor_y , cur_cursor_y ],\n",
    "                label=\"model\", linestyle=:dash\n",
    "            )\n",
    "\n",
    "            scatter!(\n",
    "                [cur_cursor_x], [cur_cursor_y], \n",
    "                label=\"\", alpha=0.7, markersize=4\n",
    "            )\n",
    "        end\n",
    "    end\n",
    "    \n",
    "    cur_min_pairs = Dict()\n",
    "    cur_max_pairs = Dict()\n",
    "    \n",
    "    for cur_value in values(cur_dict)\n",
    "        cur_min, cur_min_index = findmin(cur_value[:t])\n",
    "        cur_max, cur_max_index = findmax(cur_value[:t])\n",
    "        \n",
    "        cur_min_tuple = (\n",
    "            cur_value[:x][cur_min_index],\n",
    "            cur_value[:y][cur_min_index]\n",
    "        )\n",
    "        \n",
    "        if in(cur_min, keys(cur_min_pairs))\n",
    "            push!(\n",
    "                cur_min_pairs[cur_min],\n",
    "                cur_min_tuple\n",
    "            )\n",
    "        else\n",
    "            cur_min_pairs[cur_min] = [cur_min_tuple]\n",
    "        end\n",
    "        \n",
    "        cur_max_tuple = (\n",
    "            cur_value[:x][cur_max_index],\n",
    "            cur_value[:y][cur_max_index]\n",
    "        )\n",
    "        \n",
    "        if in(cur_max, keys(cur_max_pairs))\n",
    "            push!(\n",
    "                cur_max_pairs[cur_max],\n",
    "                cur_max_tuple\n",
    "            )\n",
    "        else\n",
    "            cur_max_pairs[cur_max] = [cur_max_tuple]\n",
    "        end\n",
    "    end\n",
    "    \n",
    "    for cur_key in sort(collect(keys(cur_min_pairs)))\n",
    "        cur_x_dots = map(first, cur_min_pairs[cur_key])\n",
    "        cur_y_dots = map(last, cur_min_pairs[cur_key])\n",
    "\n",
    "        scatter!(\n",
    "            cur_x_dots, \n",
    "            cur_y_dots,\n",
    "            label=cur_key,\n",
    "            alpha=0.7,\n",
    "            markersize=3\n",
    "        )\n",
    "    end\n",
    "\n",
    "    for cur_key in sort(collect(keys(cur_max_pairs)))\n",
    "        cur_x_dots = map(first, cur_max_pairs[cur_key])\n",
    "        cur_y_dots = map(last, cur_max_pairs[cur_key])\n",
    "\n",
    "        scatter!(\n",
    "            cur_x_dots, \n",
    "            cur_y_dots,\n",
    "            label=cur_key,\n",
    "            alpha=0.7,\n",
    "            markersize=3\n",
    "        )\n",
    "    end\n",
    "    \n",
    "    xlabel!(xvar)\n",
    "    ylabel!(yvar)\n",
    "    \n",
    "    if xmax == 0\n",
    "        if xvar == \"B_0\" || xvar == \"R_0\" || xvar == \"p_bar\" || xvar == \"p_bar\" || xvar == \"cost\"\n",
    "            xaxis!([0, 40])\n",
    "        elseif startswith(xvar, \"f_\")\n",
    "            xaxis!([0, 1])\n",
    "        elseif startswith(xvar, \"norm_\")\n",
    "            xaxis!([0, 5])\n",
    "        elseif maximum(x_pool) > 5000\n",
    "            xaxis!([0, 5000])\n",
    "        else\n",
    "            xaxis!([0, maximum(x_pool)])\n",
    "        end\n",
    "    elseif xmax < minimum(x_pool)\n",
    "        xaxis!([0, maximum(x_pool)])\n",
    "    else\n",
    "        xaxis!([0, xmax])\n",
    "    end\n",
    "\n",
    "    if ymax == 0\n",
    "        if yvar == \"R_0\"\n",
    "            yaxis!([0, 25])\n",
    "        elseif yvar == \"B_0\" || yvar == \"p_bar\" || yvar == \"p_bar\" || yvar == \"cost\"\n",
    "            yaxis!([0, 40])\n",
    "        elseif startswith(yvar, \"f_\")\n",
    "            yaxis!([0, 1])\n",
    "        elseif startswith(yvar, \"norm_\")\n",
    "            yaxis!([0, 5])\n",
    "        elseif maximum(y_pool) > 5000\n",
    "            yaxis!([0, 5000])\n",
    "        else\n",
    "            yaxis!([0, maximum(y_pool)])\n",
    "        end\n",
    "    elseif ymax < minimum(y_pool)\n",
    "        yaxis!([0, maximum(y_pool)])\n",
    "    else\n",
    "        yaxis!([0, ymax])\n",
    "    end\n",
    "    \n",
    "    title!(string(sweep))\n",
    "    \n",
    "    legend || plot!(legend=false)\n",
    "    \n",
    "    plot!()\n",
    "end"
   ]
  },
  {
   "cell_type": "code",
   "execution_count": null,
   "metadata": {},
   "outputs": [],
   "source": []
  }
 ],
 "metadata": {
  "kernelspec": {
   "display_name": "Julia 0.6.2",
   "language": "julia",
   "name": "julia-0.6"
  },
  "language_info": {
   "file_extension": ".jl",
   "mimetype": "application/julia",
   "name": "julia",
   "version": "0.6.2"
  }
 },
 "nbformat": 4,
 "nbformat_minor": 2
}
