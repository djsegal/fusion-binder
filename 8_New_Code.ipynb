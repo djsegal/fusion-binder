{
 "cells": [
  {
   "cell_type": "code",
   "execution_count": 4,
   "metadata": {},
   "outputs": [],
   "source": [
    "using SymPy"
   ]
  },
  {
   "cell_type": "code",
   "execution_count": 5,
   "metadata": {},
   "outputs": [],
   "source": [
    "using Unitful"
   ]
  },
  {
   "cell_type": "code",
   "execution_count": 6,
   "metadata": {},
   "outputs": [
    {
     "data": {
      "text/plain": [
       "@puts (macro with 1 method)"
      ]
     },
     "execution_count": 6,
     "metadata": {},
     "output_type": "execute_result"
    }
   ],
   "source": [
    "macro puts(exp)\n",
    "    tmp_val = eval(exp)\n",
    "    println(exp.args[1], \" = \", tmp_val)\n",
    "    return\n",
    "end"
   ]
  },
  {
   "cell_type": "code",
   "execution_count": 27,
   "metadata": {},
   "outputs": [
    {
     "name": "stdout",
     "output_type": "stream",
     "text": [
      "n = ip*kn/r^2\n",
      "p = ip*kn*kp*t*(fdt + 1)*(nun + 1)*(nut + 1)/(r^2*(nun + nut + 1)) atm\n",
      "perim = 2*ee*sqrt(gp)*pip*r m\n",
      "BP = 6.28318530717959e-7*ip/(ee*sqrt(gp)*pip*r) MA H m^-2\n",
      "betap = 0.645054984351452*ee^2*gp*kn*kp*pip^2*t*(fdt + 1)*(nun + 1)*(nut + 1)/(ip*(nun + nut + 1))\n",
      "bv = (ip*kvi + kvt*t)/(10*r) T\n",
      "ibs = kbs*t MA\n",
      "icd = ip*kcd*sv MA\n",
      "iin = -ip*kcd*sv + ip - kbs*t MA\n",
      "rp = krp*t^(-1.5)/r Ω\n",
      "phiru = 1000000*lp*(-ip*kcd*sv + ip - kbs*t) s V\n",
      "phift = 1000000*krp*t^(-1.5)*tft*(-ip*kcd*sv + ip - kbs*t)/r s V\n",
      "phics = 2*imax*m s V\n",
      "phipf = pip*(r^2 - (d + rcs)^2)*(ip*kvi + kvt*t)/(10*r) s V\n"
     ]
    }
   ],
   "source": [
    "@syms lp iin tft rp m imax r rcs d bv pip betap ip kvi kn nun nut fdt kp t gp ee kvt kbs kcd sv krp\n",
    "\n",
    "lp *= 1u\"H\"\n",
    "iin *= 1u\"MA\"\n",
    "\n",
    "tft *= 1u\"s\"\n",
    "rp *= 1u\"Ω\"\n",
    "\n",
    "m *= 1u\"H\"\n",
    "imax *= 1u\"A\"\n",
    "\n",
    "bv *= 1u\"T\"\n",
    "r *= 1u\"m\"\n",
    "rcs *= 1u\"m\"\n",
    "d *= 1u\"m\"\n",
    "\n",
    "ip *= 1u\"MA\"\n",
    "\n",
    "@puts n = kn * ip / r^2 / 1u\"MA\" * 1u\"m^2\"\n",
    "@puts p = kp * (1+fdt) * (1+nun) * (1+nut) / (1+nun+nut) * n * t * 1u\"atm\"\n",
    "@puts perim = 2 * pip * ee * r * sqrt(gp)\n",
    "@puts BP = Unitful.µ0 * ip / perim\n",
    "@puts betap = upreferred(2 * Unitful.µ0 * p / BP^2 )\n",
    "@puts bv = 1u\"T\" * 1/(10*r/1u\"m\") * (kvi *ip/1u\"MA\" + kvt*t)\n",
    "\n",
    "@puts ibs = kbs * t * 1u\"MA\"\n",
    "@puts icd = kcd * ip * sv\n",
    "@puts iin = ip - ibs - icd\n",
    "\n",
    "@puts rp = krp / (r/1u\"m\") / t^(3/2) * 1u\"Ω\"\n",
    "\n",
    "@puts phiru = uconvert(u\"V*s\", lp * iin)\n",
    "@puts phift = uconvert(u\"V*s\", tft * rp * iin)\n",
    "@puts phics = uconvert(u\"V*s\", 2 * m * imax)\n",
    "@puts phipf = uconvert(u\"V*s\", pip * bv * (r^2 - (rcs + d)^2))\n"
   ]
  },
  {
   "cell_type": "code",
   "execution_count": 33,
   "metadata": {},
   "outputs": [
    {
     "name": "stdout",
     "output_type": "stream",
     "text": [
      "(-20.0*imax*m*r*t^(3/2) - 10000000.0*kbs*krp*t*tft - 10000000.0*kbs*lp*r*t^(5/2) - kvt*pip*r^2*t^(5/2) + kvt*pip*t^(5/2)*(d + rcs)^2)/(10000000.0*kcd*krp*sv*tft + 10000000.0*kcd*lp*r*sv*t^1.5 - 10000000.0*krp*tft + kvi*pip*r^2*t^1.5 - kvi*pip*t^1.5*(d + rcs)^2 - 10000000.0*lp*r*t^1.5)\n"
     ]
    }
   ],
   "source": [
    "flux_balance = ( phics + phipf - ( phiru + phift ) ) / 1u\"V*s\"\n",
    "\n",
    "println(solve(flux_balance, ip/1u\"MA\")[1])"
   ]
  },
  {
   "cell_type": "code",
   "execution_count": 9,
   "metadata": {},
   "outputs": [
    {
     "data": {
      "text/latex": [
       "$$\\frac{0.314159265358979 ip}{pip r} \\left(\\frac{0.645054984351452 ee^{2} gp kn kp pip^{2} t}{ip \\left(nun + nut + 1\\right)} \\left(fdt + 1\\right) \\left(nun + 1\\right) \\left(nut + 1\\right) + kvi\\right)$$"
      ],
      "text/plain": [
       "                     /                    2             2                     \n",
       "                     |0.645054984351452*ee *gp*kn*kp*pip *t*(fdt + 1)*(nun + 1\n",
       "0.314159265358979*ip*|--------------------------------------------------------\n",
       "                     \\                         ip*(nun + nut + 1)             \n",
       "------------------------------------------------------------------------------\n",
       "                                             pip*r                            \n",
       "\n",
       "                 \\\n",
       ")*(nut + 1)      |\n",
       "----------- + kvi|\n",
       "                 /\n",
       "------------------\n",
       "                  "
      ]
     },
     "execution_count": 9,
     "metadata": {},
     "output_type": "execute_result"
    }
   ],
   "source": [
    "(BV / 1u\"T\")"
   ]
  },
  {
   "cell_type": "code",
   "execution_count": 10,
   "metadata": {},
   "outputs": [
    {
     "name": "stdout",
     "output_type": "stream",
     "text": [
      "0.314159265358979*ip*(0.645054984351452*ee^2*gp*kn*kp*pip^2*t*(fdt + 1)*(nun + 1)*(nut + 1)/(ip*(nun + nut + 1)) + kvi)/(pip*r)\n"
     ]
    }
   ],
   "source": [
    "println(BV / 1u\"T\")"
   ]
  },
  {
   "cell_type": "code",
   "execution_count": 37,
   "metadata": {},
   "outputs": [
    {
     "data": {
      "text/plain": [
       "795774.715459477*bcs*hcs/n A"
      ]
     },
     "execution_count": 37,
     "metadata": {},
     "output_type": "execute_result"
    }
   ],
   "source": [
    "@syms bcs hcs n klp\n",
    "\n",
    "lp = klp * r/1u\"m\" * 1u\"H\"\n",
    "\n",
    "bcs *= 1u\"T\"\n",
    "hcs *= 1u\"m\"\n",
    "\n",
    "imax = uconvert(u\"A\", bcs*hcs/n/Unitful.µ0)\n",
    "\n",
    "\n",
    "# 2.*10^(-6)*imax*m*r*sqrt(t)"
   ]
  },
  {
   "cell_type": "code",
   "execution_count": null,
   "metadata": {},
   "outputs": [],
   "source": []
  }
 ],
 "metadata": {
  "kernelspec": {
   "display_name": "Julia 0.6.2",
   "language": "julia",
   "name": "julia-0.6"
  },
  "language_info": {
   "file_extension": ".jl",
   "mimetype": "application/julia",
   "name": "julia",
   "version": "0.6.2"
  }
 },
 "nbformat": 4,
 "nbformat_minor": 2
}
