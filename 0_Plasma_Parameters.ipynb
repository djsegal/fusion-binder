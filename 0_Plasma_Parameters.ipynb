{
 "cells": [
  {
   "cell_type": "code",
   "execution_count": 1,
   "metadata": {},
   "outputs": [
    {
     "data": {
      "text/html": [
       "<div id=\"interact-js-shim\">\n",
       "    <script charset=\"utf-8\">\n",
       "(function (IPython, $, _, MathJax) {\n",
       "    $.event.special.destroyed = {\n",
       "\tremove: function(o) {\n",
       "\t    if (o.handler) {\n",
       "\t\to.handler.apply(this, arguments)\n",
       "\t    }\n",
       "\t}\n",
       "    }\n",
       "\n",
       "    var OutputArea = IPython.version >= \"4.0.0\" ? require(\"notebook/js/outputarea\").OutputArea : IPython.OutputArea;\n",
       "\n",
       "    var redrawValue = function (container, type, val) {\n",
       "\tvar selector = $(\"<div/>\");\n",
       "\tvar oa = new OutputArea(_.extend(selector, {\n",
       "\t    selector: selector,\n",
       "\t    prompt_area: true,\n",
       "\t    events: IPython.events,\n",
       "\t    keyboard_manager: IPython.keyboard_manager\n",
       "\t})); // Hack to work with IPython 2.1.0\n",
       "\n",
       "\tswitch (type) {\n",
       "\tcase \"image/png\":\n",
       "            var _src = 'data:' + type + ';base64,' + val;\n",
       "\t    $(container).find(\"img\").attr('src', _src);\n",
       "\t    break;\n",
       "\tcase \"text/latex\":\n",
       "\t\tif (MathJax){\n",
       "\t\t\tvar math = MathJax.Hub.getAllJax(container)[0];\n",
       "\t\t\tMathJax.Hub.Queue([\"Text\", math, val.replace(/^\\${1,2}|\\${1,2}$/g, '')]);\n",
       "\t\t\tbreak;\n",
       "\t\t}\n",
       "\tdefault:\n",
       "\t    var toinsert = OutputArea.append_map[type].apply(\n",
       "\t\toa, [val, {}, selector]\n",
       "\t    );\n",
       "\t    $(container).empty().append(toinsert.contents());\n",
       "\t    selector.remove();\n",
       "\t}\n",
       "    }\n",
       "\n",
       "\n",
       "    $(document).ready(function() {\n",
       "\tfunction initComm(evt, data) {\n",
       "\t    var comm_manager = data.kernel.comm_manager;\n",
       "        //_.extend(comm_manager.targets, require(\"widgets/js/widget\"))\n",
       "\t    comm_manager.register_target(\"Signal\", function (comm) {\n",
       "            comm.on_msg(function (msg) {\n",
       "                var val = msg.content.data.value;\n",
       "                $(\".signal-\" + comm.comm_id).each(function() {\n",
       "                var type = $(this).data(\"type\");\n",
       "                if (typeof(val[type]) !== \"undefined\" && val[type] !== null) {\n",
       "                    redrawValue(this, type, val[type], type);\n",
       "                }\n",
       "                });\n",
       "                delete val;\n",
       "                delete msg.content.data.value;\n",
       "            });\n",
       "\t    });\n",
       "\n",
       "\t    // coordingate with Comm and redraw Signals\n",
       "\t    // XXX: Test using Reactive here to improve performance\n",
       "\t    $([IPython.events]).on(\n",
       "\t\t'output_appended.OutputArea', function (event, type, value, md, toinsert) {\n",
       "\t\t    if (md && md.reactive) {\n",
       "                // console.log(md.comm_id);\n",
       "                toinsert.addClass(\"signal-\" + md.comm_id);\n",
       "                toinsert.data(\"type\", type);\n",
       "                // Signal back indicating the mimetype required\n",
       "                var comm_manager = IPython.notebook.kernel.comm_manager;\n",
       "                var comm = comm_manager.comms[md.comm_id];\n",
       "                comm.then(function (c) {\n",
       "                    c.send({action: \"subscribe_mime\",\n",
       "                       mime: type});\n",
       "                    toinsert.bind(\"destroyed\", function() {\n",
       "                        c.send({action: \"unsubscribe_mime\",\n",
       "                               mime: type});\n",
       "                    });\n",
       "                })\n",
       "\t\t    }\n",
       "\t    });\n",
       "\t}\n",
       "\n",
       "\ttry {\n",
       "\t    // try to initialize right away. otherwise, wait on the status_started event.\n",
       "\t    initComm(undefined, IPython.notebook);\n",
       "\t} catch (e) {\n",
       "\t    $([IPython.events]).on('kernel_created.Kernel kernel_created.Session', initComm);\n",
       "\t}\n",
       "    });\n",
       "})(IPython, jQuery, _, MathJax);\n",
       "</script>\n",
       "    <script>\n",
       "        window.interactLoadedFlag = true\n",
       "       $(\"#interact-js-shim\").bind(\"destroyed\", function () {\n",
       "           if (window.interactLoadedFlag) {\n",
       "               console.warn(\"JavaScript required by Interact will be removed if you remove this cell or run using Interact more than once.\")\n",
       "           }\n",
       "       })\n",
       "       $([IPython.events]).on(\"kernel_starting.Kernel kernel_restarting.Kernel\", function () { window.interactLoadedFlag = false })\n",
       "   </script>\n",
       "</div>"
      ]
     },
     "metadata": {},
     "output_type": "display_data"
    },
    {
     "name": "stderr",
     "output_type": "stream",
     "text": [
      "\u001b[1m\u001b[36mINFO: \u001b[39m\u001b[22m\u001b[36mInteract.jl: using new nbwidgetsextension protocol\n",
      "\u001b[39m"
     ]
    }
   ],
   "source": [
    "using Plots\n",
    "using Interact"
   ]
  },
  {
   "cell_type": "code",
   "execution_count": 2,
   "metadata": {},
   "outputs": [],
   "source": [
    "default_epsilon = 0.3226\n",
    "default_kappa = 1.590\n",
    "default_delta = 0.333\n",
    "default_radius = 9.0722\n",
    "default_sigma = 0.1\n",
    "\n",
    "return"
   ]
  },
  {
   "cell_type": "code",
   "execution_count": 3,
   "metadata": {},
   "outputs": [
    {
     "data": {
      "text/plain": [
       "itr (generic function with 2 methods)"
      ]
     },
     "execution_count": 3,
     "metadata": {},
     "output_type": "execute_result"
    }
   ],
   "source": [
    "function itr(cur_value::AbstractFloat, cur_count=11)\n",
    "    dif_value = cur_value * 0.7\n",
    "    min_value = cur_value - dif_value\n",
    "    max_value = cur_value + dif_value\n",
    "    linspace(min_value, max_value, cur_count)\n",
    "end"
   ]
  },
  {
   "cell_type": "code",
   "execution_count": 4,
   "metadata": {},
   "outputs": [
    {
     "data": {
      "application/vnd.jupyter.widget-view+json": {
       "model_id": "2e505c46-33dc-47e7-b1ff-cfb0c78c57ce",
       "version_major": 2,
       "version_minor": 0
      }
     },
     "metadata": {},
     "output_type": "display_data"
    },
    {
     "data": {
      "text/html": [],
      "text/plain": [
       "Interact.Options{:SelectionSlider,Float64}(1: \"input\" = 0.3226 Float64 , \"epsilon\", 0.3226, \"0.3226\", 6, Interact.OptionDict(DataStructures.OrderedDict(\"0.09678\"=>0.09678,\"0.141944\"=>0.141944,\"0.187108\"=>0.187108,\"0.232272\"=>0.232272,\"0.277436\"=>0.277436,\"0.3226\"=>0.3226,\"0.367764\"=>0.367764,\"0.412928\"=>0.412928,\"0.458092\"=>0.458092,\"0.503256\"=>0.503256…), Dict(0.3226=>\"0.3226\",0.187108=>\"0.187108\",0.503256=>\"0.503256\",0.458092=>\"0.458092\",0.412928=>\"0.412928\",0.232272=>\"0.232272\",0.277436=>\"0.277436\",0.54842=>\"0.54842\",0.09678=>\"0.09678\",0.367764=>\"0.367764\"…)), Any[], Any[], true, \"horizontal\", true)"
      ]
     },
     "metadata": {},
     "output_type": "display_data"
    },
    {
     "data": {
      "application/vnd.jupyter.widget-view+json": {
       "model_id": "19a5be5e-db83-487d-b38c-da67fea25832",
       "version_major": 2,
       "version_minor": 0
      }
     },
     "metadata": {},
     "output_type": "display_data"
    },
    {
     "data": {
      "text/html": [],
      "text/plain": [
       "Interact.Options{:SelectionSlider,Float64}(3: \"input-2\" = 1.5900000000000003 Float64 , \"kappa\", 1.5900000000000003, \"1.5900000000000003\", 6, Interact.OptionDict(DataStructures.OrderedDict(\"0.4770000000000001\"=>0.477,\"0.6996000000000001\"=>0.6996,\"0.9222000000000001\"=>0.9222,\"1.1448\"=>1.1448,\"1.3674000000000002\"=>1.3674,\"1.5900000000000003\"=>1.59,\"1.8126000000000002\"=>1.8126,\"2.0352\"=>2.0352,\"2.2578000000000005\"=>2.2578,\"2.4804000000000004\"=>2.4804…), Dict(0.477=>\"0.4770000000000001\",2.4804=>\"2.4804000000000004\",2.703=>\"2.7030000000000003\",2.2578=>\"2.2578000000000005\",1.3674=>\"1.3674000000000002\",1.59=>\"1.5900000000000003\",1.8126=>\"1.8126000000000002\",2.0352=>\"2.0352\",0.6996=>\"0.6996000000000001\",1.1448=>\"1.1448\"…)), Any[], Any[], true, \"horizontal\", true)"
      ]
     },
     "metadata": {},
     "output_type": "display_data"
    },
    {
     "data": {
      "application/vnd.jupyter.widget-view+json": {
       "model_id": "18831359-fcb9-4a73-add6-0b35a69cb2fb",
       "version_major": 2,
       "version_minor": 0
      }
     },
     "metadata": {},
     "output_type": "display_data"
    },
    {
     "data": {
      "text/html": [],
      "text/plain": [
       "Interact.Options{:SelectionSlider,Float64}(5: \"input-3\" = 0.333 Float64 , \"delta\", 0.333, \"0.333\", 6, Interact.OptionDict(DataStructures.OrderedDict(\"0.09990000000000002\"=>0.0999,\"0.14652\"=>0.14652,\"0.19314000000000003\"=>0.19314,\"0.23976000000000003\"=>0.23976,\"0.28638\"=>0.28638,\"0.333\"=>0.333,\"0.37962\"=>0.37962,\"0.42624000000000006\"=>0.42624,\"0.47286000000000006\"=>0.47286,\"0.51948\"=>0.51948…), Dict(0.28638=>\"0.28638\",0.333=>\"0.333\",0.51948=>\"0.51948\",0.0999=>\"0.09990000000000002\",0.47286=>\"0.47286000000000006\",0.5661=>\"0.5661\",0.14652=>\"0.14652\",0.23976=>\"0.23976000000000003\",0.42624=>\"0.42624000000000006\",0.37962=>\"0.37962\"…)), Any[], Any[], true, \"horizontal\", true)"
      ]
     },
     "metadata": {},
     "output_type": "display_data"
    },
    {
     "data": {
      "application/vnd.jupyter.widget-view+json": {
       "model_id": "20357a36-89a5-4e7c-aceb-e6ccb079ba73",
       "version_major": 2,
       "version_minor": 0
      }
     },
     "metadata": {},
     "output_type": "display_data"
    },
    {
     "data": {
      "text/html": [],
      "text/plain": [
       "Interact.Options{:SelectionSlider,Float64}(7: \"input-4\" = 9.0722 Float64 , \"radius\", 9.0722, \"9.0722\", 6, Interact.OptionDict(DataStructures.OrderedDict(\"2.721660000000001\"=>2.72166,\"3.991768000000001\"=>3.99177,\"5.261876000000001\"=>5.26188,\"6.531984000000001\"=>6.53198,\"7.802092000000001\"=>7.80209,\"9.0722\"=>9.0722,\"10.342308000000001\"=>10.3423,\"11.612416000000001\"=>11.6124,\"12.882524\"=>12.8825,\"14.152632\"=>14.1526…), Dict(9.0722=>\"9.0722\",14.1526=>\"14.152632\",15.4227=>\"15.422740000000001\",3.99177=>\"3.991768000000001\",5.26188=>\"5.261876000000001\",10.3423=>\"10.342308000000001\",2.72166=>\"2.721660000000001\",11.6124=>\"11.612416000000001\",12.8825=>\"12.882524\",7.80209=>\"7.802092000000001\"…)), Any[], Any[], true, \"horizontal\", true)"
      ]
     },
     "metadata": {},
     "output_type": "display_data"
    },
    {
     "data": {
      "application/vnd.jupyter.widget-view+json": {
       "model_id": "3232f22d-cd69-4c0b-bf5d-cf5f960052e7",
       "version_major": 2,
       "version_minor": 0
      }
     },
     "metadata": {},
     "output_type": "display_data"
    },
    {
     "data": {
      "text/html": [],
      "text/plain": [
       "Interact.Options{:SelectionSlider,Float64}(9: \"input-5\" = 0.1 Float64 , \"sigma\", 0.1, \"0.1\", 6, Interact.OptionDict(DataStructures.OrderedDict(\"0.030000000000000013\"=>0.03,\"0.04400000000000001\"=>0.044,\"0.05800000000000001\"=>0.058,\"0.07200000000000001\"=>0.072,\"0.08600000000000001\"=>0.086,\"0.1\"=>0.1,\"0.11399999999999999\"=>0.114,\"0.128\"=>0.128,\"0.142\"=>0.142,\"0.156\"=>0.156…), Dict(0.156=>\"0.156\",0.142=>\"0.142\",0.086=>\"0.08600000000000001\",0.114=>\"0.11399999999999999\",0.058=>\"0.05800000000000001\",0.03=>\"0.030000000000000013\",0.1=>\"0.1\",0.044=>\"0.04400000000000001\",0.17=>\"0.16999999999999998\",0.128=>\"0.128\"…)), Any[], Any[], true, \"horizontal\", true)"
      ]
     },
     "metadata": {},
     "output_type": "display_data"
    },
    {
     "data": {
      "image/png": "[encoded data removed]"
     },
     "execution_count": 4,
     "metadata": {
      "comm_id": "d4533f74-5e41-452f-974c-86f3a6d83d20",
      "reactive": true
     },
     "output_type": "execute_result"
    }
   ],
   "source": [
    "@manipulate for epsilon=itr(default_epsilon), kappa=itr(default_kappa), delta=itr(default_delta), radius=itr(default_radius), sigma=itr(default_sigma)\n",
    "    tmp_val_1 = 0.3 * ( 1 - delta ^ 2 )\n",
    "    tmp_val_2 = ( -1 + 2 * delta + tmp_val_1 ) / 8\n",
    "    \n",
    "    cc = [\n",
    "        -delta/2, 1 - tmp_val_2,\n",
    "        +delta/2, 0 + tmp_val_2\n",
    "    ]\n",
    "\n",
    "    aa = linspace(0, 2*pi)\n",
    "    \n",
    "    xx = zeros(aa)\n",
    "    \n",
    "    for (cur_i, cur_c) in enumerate(cc)\n",
    "        xx += cur_c * cos.( (cur_i-1) * aa )\n",
    "    end\n",
    "    \n",
    "    yy = kappa * sin.(aa)\n",
    "    \n",
    "    rr = radius * ( 1 + epsilon * xx )\n",
    "    zz = radius * ( 0 + epsilon * yy )\n",
    "    \n",
    "    plot(\n",
    "        [-rr..., NaN, +rr...], \n",
    "        [+zz..., NaN, +zz...],\n",
    "    )\n",
    "    \n",
    "    max_radius = maximum(itr(default_radius)) * 1.75\n",
    "    max_height = maximum(itr(default_radius)) * 1.75\n",
    "    \n",
    "    xlims!(-max_radius, +max_radius)\n",
    "    ylims!(-max_radius, +max_radius)\n",
    "    \n",
    "    cur_rhos = collect(linspace(0, 1, 5))\n",
    "    pop!(cur_rhos)\n",
    "    shift!(cur_rhos)\n",
    "            \n",
    "    for rho in cur_rhos\n",
    "        xxr = zeros(xx)\n",
    "        \n",
    "        xxr += sigma * ( 1 - rho ^ 2 )\n",
    "        xxr += cc[0+1] * rho ^ 4\n",
    "        xxr += cc[1+1] * rho ^ 1 * cos.(1 * aa)\n",
    "        xxr += cc[2+1] * rho ^ 2 * cos.(2 * aa)\n",
    "        xxr += cc[3+1] * rho ^ 3 * cos.(3 * aa)\n",
    "        \n",
    "        yyr = yy * rho\n",
    "       \n",
    "        rrr = radius * ( 1 + epsilon * xxr )\n",
    "        zzr = radius * ( 0 + epsilon * yyr )\n",
    "        \n",
    "        plot!(\n",
    "            [-rrr..., NaN, +rrr...], \n",
    "            [+zzr..., NaN, +zzr...],\n",
    "        )\n",
    "    end\n",
    "    \n",
    "    plot!()\n",
    "end"
   ]
  },
  {
   "cell_type": "code",
   "execution_count": 5,
   "metadata": {},
   "outputs": [
    {
     "data": {
      "application/vnd.jupyter.widget-view+json": {
       "model_id": "5c391260-c2ce-4658-b41c-27bb7ce026d5",
       "version_major": 2,
       "version_minor": 0
      }
     },
     "metadata": {},
     "output_type": "display_data"
    },
    {
     "data": {
      "text/html": [],
      "text/plain": [
       "Interact.Options{:SelectionSlider,Float64}(13: \"input-6\" = 1.0 Float64 , \"nu\", 1.0, \"1.0\", 6, Interact.OptionDict(DataStructures.OrderedDict(\"0.0\"=>0.0,\"0.2\"=>0.2,\"0.4\"=>0.4,\"0.6\"=>0.6,\"0.8\"=>0.8,\"1.0\"=>1.0,\"1.2\"=>1.2,\"1.4\"=>1.4,\"1.6\"=>1.6,\"1.8\"=>1.8…), Dict(0.6=>\"0.6\",1.2=>\"1.2\",2.0=>\"2.0\",1.4=>\"1.4\",0.0=>\"0.0\",0.2=>\"0.2\",0.8=>\"0.8\",1.6=>\"1.6\",0.4=>\"0.4\",1.8=>\"1.8\"…)), Any[], Any[], true, \"horizontal\", true)"
      ]
     },
     "metadata": {},
     "output_type": "display_data"
    },
    {
     "data": {
      "application/vnd.jupyter.widget-view+json": {
       "model_id": "4b5c88e1-5b77-4086-9e72-9902e9347537",
       "version_major": 2,
       "version_minor": 0
      }
     },
     "metadata": {},
     "output_type": "display_data"
    },
    {
     "data": {
      "text/html": [],
      "text/plain": [
       "Interact.Options{:SelectionSlider,Float64}(15: \"input-7\" = 0.25 Float64 , \"g\", 0.25, \"0.25\", 11, Interact.OptionDict(DataStructures.OrderedDict(\"-1.5\"=>-1.5,\"-1.325\"=>-1.325,\"-1.15\"=>-1.15,\"-0.975\"=>-0.975,\"-0.8\"=>-0.8,\"-0.625\"=>-0.625,\"-0.45\"=>-0.45,\"-0.275\"=>-0.275,\"-0.1\"=>-0.1,\"0.075\"=>0.075…), Dict(0.95=>\"0.95\",-0.45=>\"-0.45\",2.0=>\"2.0\",1.125=>\"1.125\",0.25=>\"0.25\",0.425=>\"0.425\",-0.625=>\"-0.625\",-0.275=>\"-0.275\",0.775=>\"0.775\",-0.975=>\"-0.975\"…)), Any[], Any[], true, \"horizontal\", true)"
      ]
     },
     "metadata": {},
     "output_type": "display_data"
    },
    {
     "data": {
      "image/png": "[encoded data removed]"
     },
     "execution_count": 5,
     "metadata": {
      "comm_id": "041eef88-e56d-40f4-925c-8ed5b0d0aae3",
      "reactive": true
     },
     "output_type": "execute_result"
    }
   ],
   "source": [
    "rr = linspace(0,1)\n",
    "\n",
    "@manipulate for nu = linspace(0,2,11), g=linspace(-1.5,2,21)\n",
    "    nn = 1 - rr .^ 2\n",
    "    nn .^= nu\n",
    "    nn *= 1 + nu\n",
    "\n",
    "    jj = g^2 * ( 1 - rr .^ 2 ) .* exp.( g * rr .^ 2 ) \n",
    "    jj /= ( exp(g) - 1 - g )\n",
    "    \n",
    "    plot(rr, jj)\n",
    "    plot!(rr, nn)\n",
    "end"
   ]
  },
  {
   "cell_type": "code",
   "execution_count": null,
   "metadata": {},
   "outputs": [],
   "source": []
  }
 ],
 "metadata": {
  "kernelspec": {
   "display_name": "Julia 0.6.2",
   "language": "julia",
   "name": "julia-0.6"
  },
  "language_info": {
   "file_extension": ".jl",
   "mimetype": "application/julia",
   "name": "julia",
   "version": "0.6.2"
  }
 },
 "nbformat": 4,
 "nbformat_minor": 2
}
