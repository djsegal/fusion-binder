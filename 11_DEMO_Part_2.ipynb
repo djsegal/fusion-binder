{
 "cells": [
  {
   "cell_type": "code",
   "execution_count": 126,
   "metadata": {},
   "outputs": [],
   "source": [
    "using Fussy\n",
    "Main.IJulia.set_current_module(Fussy)\n",
    "\n",
    "return"
   ]
  },
  {
   "cell_type": "code",
   "execution_count": 127,
   "metadata": {},
   "outputs": [],
   "source": [
    "reac = Reactor(13.065);"
   ]
  },
  {
   "cell_type": "code",
   "execution_count": 128,
   "metadata": {},
   "outputs": [
    {
     "name": "stderr",
     "output_type": "stream",
     "text": [
      "WARNING: Method definition foo(Any) in module Fussy at In[71]:1 overwritten at In[128]:1.\n"
     ]
    },
    {
     "data": {
      "text/plain": [
       "foo (generic function with 1 method)"
      ]
     },
     "execution_count": 128,
     "metadata": {},
     "output_type": "execute_result"
    }
   ],
   "source": [
    "foo(x) = SymEngine.subs(\n",
    "    x,\n",
    "    SymEngine.symbols(\"n_bar\") => 0.7983,\n",
    "    SymEngine.symbols(\"I_P\") => 19.6,\n",
    "    SymEngine.symbols(\"R_0\") => 9.0722,\n",
    "    SymEngine.symbols(\"B_0\") => 5.667,\n",
    "    SymEngine.symbols(\"sigma_v\") => calc_sigma_v(reac)\n",
    ") |> SymEngine.N"
   ]
  },
  {
   "cell_type": "code",
   "execution_count": 129,
   "metadata": {},
   "outputs": [
    {
     "name": "stderr",
     "output_type": "stream",
     "text": [
      "WARNING: Method definition bar(Any, Any, Any) in module Fussy at In[72]:2 overwritten at In[129]:2.\n"
     ]
    },
    {
     "data": {
      "text/plain": [
       "bar (generic function with 1 method)"
      ]
     },
     "execution_count": 129,
     "metadata": {},
     "output_type": "execute_result"
    }
   ],
   "source": [
    "function bar(a,b,c) \n",
    "    cur_expected = c\n",
    "    cur_actual = foo(b)\n",
    "    cur_is_equal = isapprox(cur_expected, cur_actual, rtol=0.1)\n",
    "    println(a, \" = \", cur_expected, cur_is_equal ? \" == \" : \"  !==  \", cur_actual)\n",
    "end"
   ]
  },
  {
   "cell_type": "markdown",
   "metadata": {},
   "source": [
    "### This is bad!!!        \n",
    "\n",
    "##### τ_E has ~35% err\n",
    "\n",
    "// from power and/or kappa term"
   ]
  },
  {
   "cell_type": "code",
   "execution_count": 130,
   "metadata": {},
   "outputs": [
    {
     "name": "stdout",
     "output_type": "stream",
     "text": [
      "tau_E = 4.227  !==  3.1012332604574357\n"
     ]
    }
   ],
   "source": [
    "bar(\n",
    "    \"tau_E\",\n",
    "    tau_E(reac),\n",
    "    4.227\n",
    ")"
   ]
  },
  {
   "cell_type": "code",
   "execution_count": 131,
   "metadata": {},
   "outputs": [
    {
     "name": "stdout",
     "output_type": "stream",
     "text": [
      "R_P = 5.222e-9 == 5.048092373066817e-9\n"
     ]
    }
   ],
   "source": [
    "bar(\n",
    "    \"R_P\",\n",
    "    R_P(reac),\n",
    "    5.222E-09\n",
    ")"
   ]
  },
  {
   "cell_type": "code",
   "execution_count": 132,
   "metadata": {},
   "outputs": [
    {
     "name": "stdout",
     "output_type": "stream",
     "text": [
      "P_F = 2037.0 == 2168.0407002949905\n"
     ]
    }
   ],
   "source": [
    "bar(\n",
    "    \"P_F\",\n",
    "    P_F(reac),\n",
    "    2.037E+03\n",
    ")\n"
   ]
  },
  {
   "cell_type": "code",
   "execution_count": 133,
   "metadata": {},
   "outputs": [
    {
     "name": "stdout",
     "output_type": "stream",
     "text": [
      "P_alpha = 407.0 == 433.6081400589982\n"
     ]
    }
   ],
   "source": [
    "bar(\n",
    "    \"P_alpha\",\n",
    "    P_alpha(reac),\n",
    "    4.070E+02\n",
    ")\n"
   ]
  },
  {
   "cell_type": "code",
   "execution_count": 134,
   "metadata": {},
   "outputs": [
    {
     "name": "stdout",
     "output_type": "stream",
     "text": [
      "P_alpha_core = 386.65  !==  433.6081400589982\n"
     ]
    }
   ],
   "source": [
    "bar(\n",
    "    \"P_alpha_core\",\n",
    "    P_alpha(reac),\n",
    "    386.65\n",
    ")\n"
   ]
  },
  {
   "cell_type": "code",
   "execution_count": 135,
   "metadata": {},
   "outputs": [
    {
     "name": "stdout",
     "output_type": "stream",
     "text": [
      "P_n = 1629.0 == 1734.4325602359927\n"
     ]
    }
   ],
   "source": [
    "bar(\n",
    "    \"P_n\",\n",
    "    P_n(reac),\n",
    "    1.629E+03\n",
    ")\n"
   ]
  },
  {
   "cell_type": "code",
   "execution_count": 136,
   "metadata": {},
   "outputs": [
    {
     "name": "stdout",
     "output_type": "stream",
     "text": [
      "L_P = 1.623e-5  !==  1.964274809650439e-5\n"
     ]
    }
   ],
   "source": [
    "bar(\n",
    "    \"L_P\",\n",
    "    L_P(reac),\n",
    "    1.623E-05\n",
    ")\n"
   ]
  },
  {
   "cell_type": "code",
   "execution_count": 137,
   "metadata": {},
   "outputs": [
    {
     "name": "stdout",
     "output_type": "stream",
     "text": [
      "P_ohmic = 1.117  !==  1.9392751660373486\n"
     ]
    }
   ],
   "source": [
    "bar(\n",
    "    \"P_ohmic\",\n",
    "    P_ohmic(reac),\n",
    "    1.117E+00\n",
    ")\n"
   ]
  },
  {
   "cell_type": "code",
   "execution_count": 138,
   "metadata": {},
   "outputs": [
    {
     "name": "stdout",
     "output_type": "stream",
     "text": [
      "P_BR = 87.91 == 87.58240169740584\n"
     ]
    }
   ],
   "source": [
    "bar(\n",
    "    \"P_BR\",\n",
    "    P_BR(reac),\n",
    "    8.791E+01\n",
    ")\n"
   ]
  },
  {
   "cell_type": "code",
   "execution_count": 139,
   "metadata": {},
   "outputs": [
    {
     "name": "stdout",
     "output_type": "stream",
     "text": [
      "P_core = 132.6  !==  87.58240169740584\n"
     ]
    }
   ],
   "source": [
    "bar(\n",
    "    \"P_core\",\n",
    "    P_BR(reac),\n",
    "    1.326E+02\n",
    ")\n"
   ]
  },
  {
   "cell_type": "code",
   "execution_count": 140,
   "metadata": {},
   "outputs": [
    {
     "name": "stdout",
     "output_type": "stream",
     "text": [
      "volume = 2502.0 == 2459.403953020482\n"
     ]
    }
   ],
   "source": [
    "bar(\n",
    "    \"volume\",\n",
    "    volume(reac),\n",
    "    2.502E+03\n",
    ")\n"
   ]
  },
  {
   "cell_type": "code",
   "execution_count": 141,
   "metadata": {},
   "outputs": [
    {
     "name": "stdout",
     "output_type": "stream",
     "text": [
      "surface_area = 1428.0 == 1392.210089192573\n"
     ]
    }
   ],
   "source": [
    "bar(\n",
    "    \"surface_area\",\n",
    "    surface_area(reac),\n",
    "    1.428E+03\n",
    ")\n"
   ]
  },
  {
   "cell_type": "code",
   "execution_count": 142,
   "metadata": {},
   "outputs": [
    {
     "name": "stdout",
     "output_type": "stream",
     "text": [
      "perimeter = 25.769 == 25.93021970828583\n"
     ]
    }
   ],
   "source": [
    "bar(\n",
    "    \"perimeter\",\n",
    "    perimeter(reac),\n",
    "    25.769\n",
    ")\n"
   ]
  },
  {
   "cell_type": "code",
   "execution_count": 143,
   "metadata": {},
   "outputs": [
    {
     "name": "stdout",
     "output_type": "stream",
     "text": [
      "surface_area = 1428.0 == 1392.210089192573\n"
     ]
    }
   ],
   "source": [
    "bar(\n",
    "    \"surface_area\",\n",
    "    surface_area(reac),\n",
    "    1.428E+03\n",
    ")\n"
   ]
  },
  {
   "cell_type": "code",
   "execution_count": 144,
   "metadata": {},
   "outputs": [
    {
     "name": "stdout",
     "output_type": "stream",
     "text": [
      "cross_sectional_area = 44.796 == 43.145686402742136\n"
     ]
    }
   ],
   "source": [
    "bar(\n",
    "    \"cross_sectional_area\",\n",
    "    cross_sectional_area(reac),\n",
    "    44.796\n",
    ")\n"
   ]
  },
  {
   "cell_type": "code",
   "execution_count": 145,
   "metadata": {},
   "outputs": [
    {
     "name": "stdout",
     "output_type": "stream",
     "text": [
      "P_H = 50.0 == 54.391387363145775\n"
     ]
    }
   ],
   "source": [
    "bar(\n",
    "    \"P_H\",\n",
    "    P_H(reac),\n",
    "    29.72 + 20.28\n",
    ")\n"
   ]
  },
  {
   "cell_type": "code",
   "execution_count": 146,
   "metadata": {},
   "outputs": [
    {
     "name": "stdout",
     "output_type": "stream",
     "text": [
      "P_kappa = 306.79  !==  397.00008107450344\n"
     ]
    }
   ],
   "source": [
    "bar(\n",
    "    \"P_kappa\",\n",
    "    P_kappa(reac),\n",
    "    round(163.56 + 143.23, 3)\n",
    ")\n"
   ]
  },
  {
   "cell_type": "code",
   "execution_count": 147,
   "metadata": {},
   "outputs": [
    {
     "name": "stdout",
     "output_type": "stream",
     "text": [
      "P_out = 439.38 == 484.5824827719093\n"
     ]
    }
   ],
   "source": [
    "bar(\n",
    "    \"P_out\",\n",
    "    P_kappa(reac) + P_BR(reac),\n",
    "    439.38\n",
    ")"
   ]
  },
  {
   "cell_type": "code",
   "execution_count": 148,
   "metadata": {},
   "outputs": [
    {
     "name": "stdout",
     "output_type": "stream",
     "text": [
      "P_in = 439.38 == 487.99952742214396\n"
     ]
    }
   ],
   "source": [
    "bar(\n",
    "    \"P_in\",\n",
    "    P_alpha(reac) + P_H(reac),\n",
    "    439.38\n",
    ")"
   ]
  },
  {
   "cell_type": "code",
   "execution_count": 149,
   "metadata": {},
   "outputs": [
    {
     "name": "stdout",
     "output_type": "stream",
     "text": [
      "R_CS = 3.301  !==  3.9557467445999293\n"
     ]
    }
   ],
   "source": [
    "bar(\n",
    "    \"R_CS\",\n",
    "    R_CS(reac),\n",
    "    3.301\n",
    ")"
   ]
  },
  {
   "cell_type": "code",
   "execution_count": 150,
   "metadata": {
    "scrolled": true
   },
   "outputs": [
    {
     "name": "stdout",
     "output_type": "stream",
     "text": [
      "d = 0.818  !==  0.6121921469492301\n"
     ]
    }
   ],
   "source": [
    "bar(\n",
    "    \"d\",\n",
    "    d(reac),\n",
    "    0.818\n",
    ")"
   ]
  },
  {
   "cell_type": "code",
   "execution_count": 151,
   "metadata": {},
   "outputs": [
    {
     "name": "stdout",
     "output_type": "stream",
     "text": [
      "c = 1.05  !==  0.3775693884508412\n"
     ]
    }
   ],
   "source": [
    "bar(\n",
    "    \"c\",\n",
    "    c(reac),\n",
    "    1.050\n",
    ")"
   ]
  },
  {
   "cell_type": "code",
   "execution_count": 152,
   "metadata": {},
   "outputs": [
    {
     "name": "stdout",
     "output_type": "stream",
     "text": [
      "P_W = 1.05 == 1.0665839544154678\n"
     ]
    }
   ],
   "source": [
    "bar(\n",
    "    \"P_W\",\n",
    "    P_W(reac),\n",
    "    1.050E+00\n",
    ")"
   ]
  },
  {
   "cell_type": "code",
   "execution_count": 153,
   "metadata": {},
   "outputs": [
    {
     "name": "stdout",
     "output_type": "stream",
     "text": [
      "P_E (gross) = 913.5 == 974.3174907125689\n"
     ]
    }
   ],
   "source": [
    "bar(\n",
    "    \"P_E (gross)\",\n",
    "    P_E(reac),\n",
    "    9.135E+02\n",
    ")"
   ]
  },
  {
   "cell_type": "code",
   "execution_count": 154,
   "metadata": {},
   "outputs": [
    {
     "name": "stdout",
     "output_type": "stream",
     "text": [
      "P_E (net) = 500.0 == 486.3179632904249\n"
     ]
    }
   ],
   "source": [
    "bar(\n",
    "    \"P_E (net)\",\n",
    "    P_E(reac) - P_H(reac) - P_alpha(reac),\n",
    "    5.000E+02\n",
    ")"
   ]
  },
  {
   "cell_type": "code",
   "execution_count": 155,
   "metadata": {},
   "outputs": [
    {
     "name": "stdout",
     "output_type": "stream",
     "text": [
      "B_P = 0.956 == 0.9498603051278274\n"
     ]
    }
   ],
   "source": [
    "bar(\n",
    "    \"B_P\",\n",
    "    B_P(reac),\n",
    "    0.956\n",
    ")"
   ]
  },
  {
   "cell_type": "code",
   "execution_count": 156,
   "metadata": {},
   "outputs": [
    {
     "name": "stdout",
     "output_type": "stream",
     "text": [
      "beta_P (total) = 1.107  !==  0.9294993425992697\n"
     ]
    }
   ],
   "source": [
    "bar(\n",
    "    \"beta_P (total)\",\n",
    "    beta_P(reac),\n",
    "    1.107E+00\n",
    ")"
   ]
  },
  {
   "cell_type": "code",
   "execution_count": 157,
   "metadata": {},
   "outputs": [
    {
     "name": "stdout",
     "output_type": "stream",
     "text": [
      "beta_P (thermal) = 0.9509 == 0.9294993425992697\n"
     ]
    }
   ],
   "source": [
    "bar(\n",
    "    \"beta_P (thermal)\",\n",
    "    beta_P(reac),\n",
    "    9.509E-01\n",
    ")"
   ]
  },
  {
   "cell_type": "code",
   "execution_count": 158,
   "metadata": {},
   "outputs": [
    {
     "name": "stdout",
     "output_type": "stream",
     "text": [
      "B_V = 0.734 == 0.6951847043977715\n"
     ]
    }
   ],
   "source": [
    "bar(\n",
    "    \"B_V\",\n",
    "    B_V(reac),\n",
    "    abs(-0.734)\n",
    ")"
   ]
  },
  {
   "cell_type": "code",
   "execution_count": 159,
   "metadata": {},
   "outputs": [
    {
     "name": "stdout",
     "output_type": "stream",
     "text": [
      "n_bar = 0.7983 == 0.7983\n"
     ]
    }
   ],
   "source": [
    "bar(\n",
    "    \"n_bar\",\n",
    "    reac.n_bar,\n",
    "    0.7983\n",
    ")"
   ]
  },
  {
   "cell_type": "code",
   "execution_count": 160,
   "metadata": {},
   "outputs": [
    {
     "name": "stdout",
     "output_type": "stream",
     "text": [
      "n_0 = 1.014 == 1.013841\n"
     ]
    }
   ],
   "source": [
    "bar(\n",
    "    \"n_0\",\n",
    "    reac.n_bar * ( 1 + reac.nu_n ),\n",
    "    1.014\n",
    ")"
   ]
  },
  {
   "cell_type": "code",
   "execution_count": 161,
   "metadata": {},
   "outputs": [
    {
     "name": "stdout",
     "output_type": "stream",
     "text": [
      "n_hat = 0.8742 == 0.8778147071842651\n"
     ]
    }
   ],
   "source": [
    "bar(\n",
    "    \"n_hat\",\n",
    "    n_hat(reac),\n",
    "    0.8742\n",
    ")"
   ]
  },
  {
   "cell_type": "code",
   "execution_count": 162,
   "metadata": {},
   "outputs": [
    {
     "name": "stdout",
     "output_type": "stream",
     "text": [
      "n_ped = 0.678  !==  0.5672534617486491\n"
     ]
    }
   ],
   "source": [
    "bar(\n",
    "    \"n_ped\",\n",
    "    n_rho(reac, 0.940),\n",
    "    0.6780\n",
    ")"
   ]
  },
  {
   "cell_type": "code",
   "execution_count": 163,
   "metadata": {},
   "outputs": [
    {
     "name": "stdout",
     "output_type": "stream",
     "text": [
      "phi_FT = 410.9  !==  525.7294963616775\n"
     ]
    }
   ],
   "source": [
    "bar(\n",
    "    \"phi_FT\",\n",
    "    phi_FT(reac),\n",
    "    4.109E+02\n",
    ")"
   ]
  },
  {
   "cell_type": "code",
   "execution_count": 164,
   "metadata": {},
   "outputs": [
    {
     "name": "stdout",
     "output_type": "stream",
     "text": [
      "f_BS = 0.323  !==  0.15820312862236416\n"
     ]
    }
   ],
   "source": [
    "bar(\n",
    "    \"f_BS\",\n",
    "    f_BS(reac),\n",
    "    0.323\n",
    ")"
   ]
  },
  {
   "cell_type": "code",
   "execution_count": 165,
   "metadata": {},
   "outputs": [
    {
     "name": "stdout",
     "output_type": "stream",
     "text": [
      "beta_N = 0.02591  !==  0.022101896813238167\n"
     ]
    }
   ],
   "source": [
    "bar(\n",
    "    \"beta_N\",\n",
    "    beta_N(reac),\n",
    "    0.02591\n",
    ")"
   ]
  },
  {
   "cell_type": "code",
   "execution_count": 166,
   "metadata": {},
   "outputs": [
    {
     "name": "stdout",
     "output_type": "stream",
     "text": [
      "q_95 = 3.247 == 3.2469172182686235\n"
     ]
    }
   ],
   "source": [
    "bar(\n",
    "    \"q_95\",\n",
    "    q_95(reac),\n",
    "    3.247\n",
    ")"
   ]
  },
  {
   "cell_type": "code",
   "execution_count": 167,
   "metadata": {},
   "outputs": [
    {
     "name": "stdout",
     "output_type": "stream",
     "text": [
      "phi_RU = 385.1  !==  284.1219596972902\n"
     ]
    }
   ],
   "source": [
    "bar(\n",
    "    \"phi_RU\",\n",
    "    phi_RU(reac),\n",
    "    3.851E+02\n",
    ")"
   ]
  },
  {
   "cell_type": "code",
   "execution_count": 168,
   "metadata": {},
   "outputs": [
    {
     "name": "stdout",
     "output_type": "stream",
     "text": [
      "phi_ind = 318.0  !==  234.65146094040128\n"
     ]
    }
   ],
   "source": [
    "bar(\n",
    "    \"phi_ind\",\n",
    "    phi_ind(reac),\n",
    "    3.180E+02\n",
    ")"
   ]
  },
  {
   "cell_type": "code",
   "execution_count": 169,
   "metadata": {},
   "outputs": [
    {
     "name": "stdout",
     "output_type": "stream",
     "text": [
      "phi_res = 67.04  !==  49.47049875688894\n"
     ]
    }
   ],
   "source": [
    "bar(\n",
    "    \"phi_res\",\n",
    "    phi_res(reac),\n",
    "    6.704E+01\n",
    ")"
   ]
  },
  {
   "cell_type": "code",
   "execution_count": 170,
   "metadata": {},
   "outputs": [
    {
     "name": "stdout",
     "output_type": "stream",
     "text": [
      "V_loop = 0.05697  !==  0.07301798560578854\n"
     ]
    }
   ],
   "source": [
    "bar(\n",
    "    \"V_loop\",\n",
    "    V_loop(reac),\n",
    "    5.697E-02\n",
    ")"
   ]
  },
  {
   "cell_type": "code",
   "execution_count": 171,
   "metadata": {},
   "outputs": [
    {
     "name": "stdout",
     "output_type": "stream",
     "text": [
      "phi_source = 796.0  !==  532.43828509245\n"
     ]
    }
   ],
   "source": [
    "bar(\n",
    "    \"phi_source\",\n",
    "    phi_CS(reac) + phi_PF(reac),\n",
    "    7.960E+02\n",
    ")"
   ]
  },
  {
   "cell_type": "code",
   "execution_count": 172,
   "metadata": {},
   "outputs": [
    {
     "name": "stdout",
     "output_type": "stream",
     "text": [
      "phi_sink = 796.0 == 809.8514560589678\n"
     ]
    }
   ],
   "source": [
    "bar(\n",
    "    \"phi_sink\",\n",
    "    phi_FT(reac) + phi_RU(reac),\n",
    "      7.960E+02\n",
    ")"
   ]
  },
  {
   "cell_type": "code",
   "execution_count": 173,
   "metadata": {},
   "outputs": [
    {
     "name": "stdout",
     "output_type": "stream",
     "text": [
      "phi_CS = 455.36  !==  398.256850235408\n"
     ]
    }
   ],
   "source": [
    "bar(\n",
    "    \"phi_CS\",\n",
    "    phi_CS(reac),\n",
    "    455.36\n",
    ")"
   ]
  },
  {
   "cell_type": "code",
   "execution_count": 174,
   "metadata": {},
   "outputs": [
    {
     "name": "stdout",
     "output_type": "stream",
     "text": [
      "phi_PF = 373.0  !==  134.1814348570418\n"
     ]
    }
   ],
   "source": [
    "bar(\n",
    "    \"phi_PF\",\n",
    "    phi_PF(reac),\n",
    "    373.00\n",
    ")"
   ]
  },
  {
   "cell_type": "code",
   "execution_count": 175,
   "metadata": {},
   "outputs": [
    {
     "data": {
      "text/plain": [
       "153.7015012017518"
      ]
     },
     "execution_count": 175,
     "metadata": {},
     "output_type": "execute_result"
    }
   ],
   "source": [
    "foo(3.1415 * ( reac.R_0^2 - R_CS(reac)^2 ) * 0.734)"
   ]
  },
  {
   "cell_type": "code",
   "execution_count": null,
   "metadata": {},
   "outputs": [],
   "source": [
    "l_1 "
   ]
  },
  {
   "cell_type": "code",
   "execution_count": null,
   "metadata": {},
   "outputs": [],
   "source": []
  },
  {
   "cell_type": "code",
   "execution_count": null,
   "metadata": {},
   "outputs": [],
   "source": []
  },
  {
   "cell_type": "code",
   "execution_count": null,
   "metadata": {},
   "outputs": [],
   "source": []
  },
  {
   "cell_type": "code",
   "execution_count": null,
   "metadata": {},
   "outputs": [],
   "source": []
  },
  {
   "cell_type": "code",
   "execution_count": null,
   "metadata": {},
   "outputs": [],
   "source": []
  },
  {
   "cell_type": "code",
   "execution_count": null,
   "metadata": {},
   "outputs": [],
   "source": []
  }
 ],
 "metadata": {
  "kernelspec": {
   "display_name": "Julia 0.6.2",
   "language": "julia",
   "name": "julia-0.6"
  },
  "language_info": {
   "file_extension": ".jl",
   "mimetype": "application/julia",
   "name": "julia",
   "version": "0.6.2"
  }
 },
 "nbformat": 4,
 "nbformat_minor": 2
}
